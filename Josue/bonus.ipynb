#Josué Gómez Granda 1027802560
def facturar(order):
    total= 0

    for producto in order:
        sku_producto= producto[0]
        nombre= producto[1]
        valor_usd= producto[2]
        cant_und= producto[3]
        envio_gratis= producto[4]
        valor_envio= producto[5]
        
        subtotal= producto[2] * producto[3]
        
        if envio_gratis == True and subtotal> 35:
            subtotal+=0
        elif envio_gratis==False:
            subtotal += producto[5]
            
        
    total += subtotal
    impuesto=0.19
    if total>=200:
        valor_total=impuesto*total
        total+=valor_total
           
    return total

order1 = [
    ["AB1042", "Intel Core i9 - 13900K", 559.45, 1, True, 9.74],
    ["RG4150", "Asus STRIX Z790F", 399.99, 1, True, 13.54],
    ["RA4100", "Corsair Dominator 32GB DDR5-6200", 179.95, 2, True, 8.85]
]

print("el precio en COP es de", facturar(order1)*4700)
print("el precio en USD es de", facturar(order1))

order2 = [
    ["AB0041", "Funko-Pop Keychain Zorojuro", 6.99, 1, False, 7.99],
    ["AB0045", "Funko-Pop Keychain Luffytaro", 7.99, 1, False, 8.50]
]

print("el precio en COP es de", facturar(order2)*4700)
print("el precio en USD es de", facturar(order1))